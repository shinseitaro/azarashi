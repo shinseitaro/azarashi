{
 "cells": [
  {
   "cell_type": "markdown",
   "metadata": {},
   "source": [
    "`damcard_1905_ダムカード配布所一覧` からDBに投入可能なデータにするための前処理\n",
    "\n",
    "https://drive.google.com/file/d/1MUkJJ7C3xYGPVKuT8hEHxJnb2m_9iwQq/view?usp=sharing"
   ]
  },
  {
   "cell_type": "code",
   "execution_count": 84,
   "metadata": {},
   "outputs": [],
   "source": [
    "import pandas as pd\n",
    "import numpy as np\n",
    "import re\n",
    "pd.options.display.max_rows = 1000\n",
    "XLS_FILE_PATH = './damcard_1905_ダムカード配布所一覧.xlsx'\n",
    "df_dam_card_places = pd.read_excel(XLS_FILE_PATH, skiprows=0)"
   ]
  },
  {
   "cell_type": "code",
   "execution_count": 85,
   "metadata": {},
   "outputs": [
    {
     "data": {
      "text/html": [
       "<div>\n",
       "<style scoped>\n",
       "    .dataframe tbody tr th:only-of-type {\n",
       "        vertical-align: middle;\n",
       "    }\n",
       "\n",
       "    .dataframe tbody tr th {\n",
       "        vertical-align: top;\n",
       "    }\n",
       "\n",
       "    .dataframe thead th {\n",
       "        text-align: right;\n",
       "    }\n",
       "</style>\n",
       "<table border=\"1\" class=\"dataframe\">\n",
       "  <thead>\n",
       "    <tr style=\"text-align: right;\">\n",
       "      <th></th>\n",
       "      <th>番号</th>\n",
       "      <th>水系名</th>\n",
       "      <th>河川名</th>\n",
       "      <th>ダム名</th>\n",
       "      <th>ver</th>\n",
       "      <th>配布場所</th>\n",
       "      <th>配布日時</th>\n",
       "      <th>ダム所在県名</th>\n",
       "      <th>配布場所の住所</th>\n",
       "      <th>ホームページURL</th>\n",
       "    </tr>\n",
       "  </thead>\n",
       "  <tbody>\n",
       "    <tr>\n",
       "      <td>0</td>\n",
       "      <td>NaN</td>\n",
       "      <td>石狩川</td>\n",
       "      <td>石狩川</td>\n",
       "      <td>大雪ダム</td>\n",
       "      <td>1.2</td>\n",
       "      <td>大雪ダム管理支所</td>\n",
       "      <td>9:00～17:00\\n（土・日・祝日を含む）</td>\n",
       "      <td>北海道</td>\n",
       "      <td>上川郡上川町字層雲峡大学平</td>\n",
       "      <td>http://www.hkd.mlit.go.jp/as/tisui/ho928l00000...</td>\n",
       "    </tr>\n",
       "    <tr>\n",
       "      <td>1</td>\n",
       "      <td>NaN</td>\n",
       "      <td>石狩川</td>\n",
       "      <td>忠別川</td>\n",
       "      <td>忠別ダム</td>\n",
       "      <td>2.0</td>\n",
       "      <td>忠別ダム管理支所</td>\n",
       "      <td>8:30～17:15\\n（土・日・祝日を含む）</td>\n",
       "      <td>NaN</td>\n",
       "      <td>上川郡東川町ノカナン</td>\n",
       "      <td>http://www.hkd.mlit.go.jp/as/tisui/ho928l00000...</td>\n",
       "    </tr>\n",
       "    <tr>\n",
       "      <td>2</td>\n",
       "      <td>NaN</td>\n",
       "      <td>石狩川</td>\n",
       "      <td>空知川</td>\n",
       "      <td>金山ダム</td>\n",
       "      <td>2.1</td>\n",
       "      <td>金山ダム管理支所</td>\n",
       "      <td>9:00～17:00\\n（土・日・祝日を含む）</td>\n",
       "      <td>NaN</td>\n",
       "      <td>空知郡南富良野町字金山</td>\n",
       "      <td>http://www.hkd.mlit.go.jp/sp/sorati_kasen/kluh...</td>\n",
       "    </tr>\n",
       "    <tr>\n",
       "      <td>3</td>\n",
       "      <td>NaN</td>\n",
       "      <td>石狩川</td>\n",
       "      <td>空知川</td>\n",
       "      <td>滝里ダム</td>\n",
       "      <td>1.2</td>\n",
       "      <td>滝里ダム管理支所</td>\n",
       "      <td>9:00～17:00\\n（土・日・祝日を含む）</td>\n",
       "      <td>NaN</td>\n",
       "      <td>芦別市滝里町６８３</td>\n",
       "      <td>http://www.hkd.mlit.go.jp/sp/sorati_kasen/kluh...</td>\n",
       "    </tr>\n",
       "    <tr>\n",
       "      <td>4</td>\n",
       "      <td>NaN</td>\n",
       "      <td>石狩川</td>\n",
       "      <td>幾春別川</td>\n",
       "      <td>桂沢ダム</td>\n",
       "      <td>2.1</td>\n",
       "      <td>幾春別川ダム建設事業所</td>\n",
       "      <td>9:00～17:00\\n(平日のみ)</td>\n",
       "      <td>NaN</td>\n",
       "      <td>三笠市幾春別山手町91-1</td>\n",
       "      <td>http://www.hkd.mlit.go.jp/sp/iwamizawa_kasen/k...</td>\n",
       "    </tr>\n",
       "  </tbody>\n",
       "</table>\n",
       "</div>"
      ],
      "text/plain": [
       "   番号  水系名   河川名   ダム名  ver         配布場所                     配布日時 ダム所在県名  \\\n",
       "0 NaN  石狩川   石狩川  大雪ダム  1.2     大雪ダム管理支所  9:00～17:00\\n（土・日・祝日を含む）    北海道   \n",
       "1 NaN  石狩川   忠別川  忠別ダム  2.0    忠別ダム管理支所　  8:30～17:15\\n（土・日・祝日を含む）    NaN   \n",
       "2 NaN  石狩川   空知川  金山ダム  2.1     金山ダム管理支所  9:00～17:00\\n（土・日・祝日を含む）    NaN   \n",
       "3 NaN  石狩川   空知川  滝里ダム  1.2     滝里ダム管理支所  9:00～17:00\\n（土・日・祝日を含む）    NaN   \n",
       "4 NaN  石狩川  幾春別川  桂沢ダム  2.1  幾春別川ダム建設事業所       9:00～17:00\\n(平日のみ)    NaN   \n",
       "\n",
       "         配布場所の住所                                          ホームページURL  \n",
       "0  上川郡上川町字層雲峡大学平  http://www.hkd.mlit.go.jp/as/tisui/ho928l00000...  \n",
       "1     上川郡東川町ノカナン  http://www.hkd.mlit.go.jp/as/tisui/ho928l00000...  \n",
       "2    空知郡南富良野町字金山  http://www.hkd.mlit.go.jp/sp/sorati_kasen/kluh...  \n",
       "3      芦別市滝里町６８３  http://www.hkd.mlit.go.jp/sp/sorati_kasen/kluh...  \n",
       "4  三笠市幾春別山手町91-1  http://www.hkd.mlit.go.jp/sp/iwamizawa_kasen/k...  "
      ]
     },
     "execution_count": 85,
     "metadata": {},
     "output_type": "execute_result"
    }
   ],
   "source": [
    "df_dam_card_places.head(5)"
   ]
  },
  {
   "cell_type": "markdown",
   "metadata": {},
   "source": [
    "データのクレンジング"
   ]
  },
  {
   "cell_type": "code",
   "execution_count": 86,
   "metadata": {},
   "outputs": [],
   "source": [
    "def purefy(item):\n",
    "    if item == np.nan or type(item) == float:\n",
    "        return item\n",
    "    item = item.replace('\\n', ' ').replace('\\u3000', ' ').replace('※', '').replace('（', '(').replace('）',')')\n",
    "    return re.sub('\\s+', ' ', item).strip()"
   ]
  },
  {
   "cell_type": "code",
   "execution_count": 87,
   "metadata": {},
   "outputs": [],
   "source": [
    "df_dam_card_places = df_dam_card_places.applymap(purefy)"
   ]
  },
  {
   "cell_type": "markdown",
   "metadata": {},
   "source": [
    "水系名、河川名、ダム名、verカラムを直前のvalidな値でfillする"
   ]
  },
  {
   "cell_type": "code",
   "execution_count": 88,
   "metadata": {},
   "outputs": [],
   "source": [
    "df_dam_card_places['水系名'] = df_dam_card_places['水系名'].fillna(method='ffill')\n",
    "df_dam_card_places['河川名'] = df_dam_card_places['河川名'].fillna(method='ffill')\n",
    "df_dam_card_places['ダム名'] = df_dam_card_places['ダム名'].fillna(method='ffill')\n",
    "df_dam_card_places['ver'] = df_dam_card_places['ver'].fillna(method='ffill')\n",
    "df_dam_card_places['ダム所在県名'] = df_dam_card_places['ダム所在県名'].fillna(method='ffill')\n",
    "df_dam_card_places['配布場所'] = df_dam_card_places['配布場所'].fillna(method='ffill')"
   ]
  },
  {
   "cell_type": "markdown",
   "metadata": {},
   "source": [
    "### 配布日時カラムのクレンジング"
   ]
  },
  {
   "cell_type": "code",
   "execution_count": 89,
   "metadata": {},
   "outputs": [],
   "source": [
    "import mojimoji #https://pypi.org/project/mojimoji/0.0.9/\n",
    "def zen_to_han(item):\n",
    "    if item == np.nan or type(item) == float:\n",
    "        return item\n",
    "    return mojimoji.zen_to_han(item, kana=False) #カナ以外は半角に\n",
    "\n",
    "def jikan_and_fun(item):\n",
    "    if item == np.nan or type(item) == float:\n",
    "        return item\n",
    "    hours = [8,9,10,11,12,13,14,15,16,17,18,19,20,21,22]\n",
    "    minutes = ['00', '15', '30', '45']\n",
    "    for hour in hours:\n",
    "        item = item.replace('{}時'.format(hour), '{}:'.format(hour))\n",
    "    for minute in minutes:\n",
    "        item = item.replace('{}分'.format(minute), '{}'.format(minute))\n",
    "            \n",
    "    return item"
   ]
  },
  {
   "cell_type": "code",
   "execution_count": 90,
   "metadata": {},
   "outputs": [],
   "source": [
    "df_dam_card_places['配布日時'] = df_dam_card_places['配布日時'].apply(zen_to_han).apply(jikan_and_fun)\n"
   ]
  },
  {
   "cell_type": "markdown",
   "metadata": {},
   "source": [
    "ダム名にダムの状態を表す記述がある。例`(建設中)` これらを除き、dam_statusカラムを作る"
   ]
  },
  {
   "cell_type": "code",
   "execution_count": 91,
   "metadata": {},
   "outputs": [],
   "source": [
    "def split_by_parenthesis(item):\n",
    "    w = re.search(r\"\\((.*?)\\)\", item)\n",
    "    if w:\n",
    "        return w.group()\n",
    "    return w"
   ]
  },
  {
   "cell_type": "code",
   "execution_count": 92,
   "metadata": {},
   "outputs": [],
   "source": [
    "df_dam_card_places['dam_status'] = df_dam_card_places['ダム名'].apply(split_by_parenthesis)"
   ]
  },
  {
   "cell_type": "markdown",
   "metadata": {},
   "source": [
    "ダム名からVlookupに使える名前を抽出し、新たに「dam_name」カラムを作る"
   ]
  },
  {
   "cell_type": "code",
   "execution_count": 93,
   "metadata": {},
   "outputs": [],
   "source": [
    "def generate_dam_name(item):\n",
    "    if type(item) == float:\n",
    "        return ''\n",
    "    return re.sub(r\"\\((.*?)\\)\" ,'' , item.replace('ダム', ''))"
   ]
  },
  {
   "cell_type": "code",
   "execution_count": 94,
   "metadata": {},
   "outputs": [],
   "source": [
    "df_dam_card_places['dam_name']=df_dam_card_places['ダム名'].apply(generate_dam_name)"
   ]
  },
  {
   "cell_type": "code",
   "execution_count": 95,
   "metadata": {},
   "outputs": [
    {
     "data": {
      "text/html": [
       "<div>\n",
       "<style scoped>\n",
       "    .dataframe tbody tr th:only-of-type {\n",
       "        vertical-align: middle;\n",
       "    }\n",
       "\n",
       "    .dataframe tbody tr th {\n",
       "        vertical-align: top;\n",
       "    }\n",
       "\n",
       "    .dataframe thead th {\n",
       "        text-align: right;\n",
       "    }\n",
       "</style>\n",
       "<table border=\"1\" class=\"dataframe\">\n",
       "  <thead>\n",
       "    <tr style=\"text-align: right;\">\n",
       "      <th></th>\n",
       "      <th>番号</th>\n",
       "      <th>水系名</th>\n",
       "      <th>河川名</th>\n",
       "      <th>ダム名</th>\n",
       "      <th>ver</th>\n",
       "      <th>配布場所</th>\n",
       "      <th>配布日時</th>\n",
       "      <th>ダム所在県名</th>\n",
       "      <th>配布場所の住所</th>\n",
       "      <th>ホームページURL</th>\n",
       "      <th>dam_status</th>\n",
       "      <th>dam_name</th>\n",
       "    </tr>\n",
       "  </thead>\n",
       "  <tbody>\n",
       "    <tr>\n",
       "      <td>0</td>\n",
       "      <td>NaN</td>\n",
       "      <td>石狩川</td>\n",
       "      <td>石狩川</td>\n",
       "      <td>大雪ダム</td>\n",
       "      <td>1.2</td>\n",
       "      <td>大雪ダム管理支所</td>\n",
       "      <td>9:00~17:00 (土・日・祝日を含む)</td>\n",
       "      <td>北海道</td>\n",
       "      <td>上川郡上川町字層雲峡大学平</td>\n",
       "      <td>http://www.hkd.mlit.go.jp/as/tisui/ho928l00000...</td>\n",
       "      <td>None</td>\n",
       "      <td>大雪</td>\n",
       "    </tr>\n",
       "    <tr>\n",
       "      <td>1</td>\n",
       "      <td>NaN</td>\n",
       "      <td>石狩川</td>\n",
       "      <td>忠別川</td>\n",
       "      <td>忠別ダム</td>\n",
       "      <td>2.0</td>\n",
       "      <td>忠別ダム管理支所</td>\n",
       "      <td>8:30~17:15 (土・日・祝日を含む)</td>\n",
       "      <td>北海道</td>\n",
       "      <td>上川郡東川町ノカナン</td>\n",
       "      <td>http://www.hkd.mlit.go.jp/as/tisui/ho928l00000...</td>\n",
       "      <td>None</td>\n",
       "      <td>忠別</td>\n",
       "    </tr>\n",
       "    <tr>\n",
       "      <td>2</td>\n",
       "      <td>NaN</td>\n",
       "      <td>石狩川</td>\n",
       "      <td>空知川</td>\n",
       "      <td>金山ダム</td>\n",
       "      <td>2.1</td>\n",
       "      <td>金山ダム管理支所</td>\n",
       "      <td>9:00~17:00 (土・日・祝日を含む)</td>\n",
       "      <td>北海道</td>\n",
       "      <td>空知郡南富良野町字金山</td>\n",
       "      <td>http://www.hkd.mlit.go.jp/sp/sorati_kasen/kluh...</td>\n",
       "      <td>None</td>\n",
       "      <td>金山</td>\n",
       "    </tr>\n",
       "    <tr>\n",
       "      <td>3</td>\n",
       "      <td>NaN</td>\n",
       "      <td>石狩川</td>\n",
       "      <td>空知川</td>\n",
       "      <td>滝里ダム</td>\n",
       "      <td>1.2</td>\n",
       "      <td>滝里ダム管理支所</td>\n",
       "      <td>9:00~17:00 (土・日・祝日を含む)</td>\n",
       "      <td>北海道</td>\n",
       "      <td>芦別市滝里町６８３</td>\n",
       "      <td>http://www.hkd.mlit.go.jp/sp/sorati_kasen/kluh...</td>\n",
       "      <td>None</td>\n",
       "      <td>滝里</td>\n",
       "    </tr>\n",
       "    <tr>\n",
       "      <td>4</td>\n",
       "      <td>NaN</td>\n",
       "      <td>石狩川</td>\n",
       "      <td>幾春別川</td>\n",
       "      <td>桂沢ダム</td>\n",
       "      <td>2.1</td>\n",
       "      <td>幾春別川ダム建設事業所</td>\n",
       "      <td>9:00~17:00 (平日のみ)</td>\n",
       "      <td>北海道</td>\n",
       "      <td>三笠市幾春別山手町91-1</td>\n",
       "      <td>http://www.hkd.mlit.go.jp/sp/iwamizawa_kasen/k...</td>\n",
       "      <td>None</td>\n",
       "      <td>桂沢</td>\n",
       "    </tr>\n",
       "  </tbody>\n",
       "</table>\n",
       "</div>"
      ],
      "text/plain": [
       "   番号  水系名   河川名   ダム名  ver         配布場所                    配布日時 ダム所在県名  \\\n",
       "0 NaN  石狩川   石狩川  大雪ダム  1.2     大雪ダム管理支所  9:00~17:00 (土・日・祝日を含む)    北海道   \n",
       "1 NaN  石狩川   忠別川  忠別ダム  2.0     忠別ダム管理支所  8:30~17:15 (土・日・祝日を含む)    北海道   \n",
       "2 NaN  石狩川   空知川  金山ダム  2.1     金山ダム管理支所  9:00~17:00 (土・日・祝日を含む)    北海道   \n",
       "3 NaN  石狩川   空知川  滝里ダム  1.2     滝里ダム管理支所  9:00~17:00 (土・日・祝日を含む)    北海道   \n",
       "4 NaN  石狩川  幾春別川  桂沢ダム  2.1  幾春別川ダム建設事業所       9:00~17:00 (平日のみ)    北海道   \n",
       "\n",
       "         配布場所の住所                                          ホームページURL  \\\n",
       "0  上川郡上川町字層雲峡大学平  http://www.hkd.mlit.go.jp/as/tisui/ho928l00000...   \n",
       "1     上川郡東川町ノカナン  http://www.hkd.mlit.go.jp/as/tisui/ho928l00000...   \n",
       "2    空知郡南富良野町字金山  http://www.hkd.mlit.go.jp/sp/sorati_kasen/kluh...   \n",
       "3      芦別市滝里町６８３  http://www.hkd.mlit.go.jp/sp/sorati_kasen/kluh...   \n",
       "4  三笠市幾春別山手町91-1  http://www.hkd.mlit.go.jp/sp/iwamizawa_kasen/k...   \n",
       "\n",
       "  dam_status dam_name  \n",
       "0       None       大雪  \n",
       "1       None       忠別  \n",
       "2       None       金山  \n",
       "3       None       滝里  \n",
       "4       None       桂沢  "
      ]
     },
     "execution_count": 95,
     "metadata": {},
     "output_type": "execute_result"
    }
   ],
   "source": [
    "df_dam_card_places.head(5)"
   ]
  },
  {
   "cell_type": "markdown",
   "metadata": {},
   "source": [
    "------"
   ]
  },
  {
   "cell_type": "code",
   "execution_count": 96,
   "metadata": {},
   "outputs": [],
   "source": [
    "CSV_FILE_PATH = './Dam-Data.csv'\n",
    "df_dam = pd.read_csv(CSV_FILE_PATH, skiprows=0)"
   ]
  },
  {
   "cell_type": "markdown",
   "metadata": {},
   "source": [
    "### ダムcsvファイルで県名コラムを作成する"
   ]
  },
  {
   "cell_type": "code",
   "execution_count": 97,
   "metadata": {},
   "outputs": [],
   "source": [
    "def extract_prefecture(item):\n",
    "    return re.search(r\"^(.{2}[都道府県]|.{3}県)\", item).group()"
   ]
  },
  {
   "cell_type": "code",
   "execution_count": 98,
   "metadata": {},
   "outputs": [],
   "source": [
    "df_dam['prefecture']=df_dam['W01_013'].apply(extract_prefecture)"
   ]
  },
  {
   "cell_type": "markdown",
   "metadata": {},
   "source": [
    "Vlookupするためのマッピング作成"
   ]
  },
  {
   "cell_type": "code",
   "execution_count": 99,
   "metadata": {},
   "outputs": [],
   "source": [
    "prefs = list(df_dam['prefecture'])\n",
    "keys = list(df_dam['W01_001'])\n",
    "values = list(df_dam['W01_002'])\n"
   ]
  },
  {
   "cell_type": "code",
   "execution_count": 100,
   "metadata": {},
   "outputs": [],
   "source": [
    "mapping = {}   #{'駒込': 191}\n",
    "for k,v,p in zip(keys, values, prefs):\n",
    "    mapping['{}-{}'.format(p,k)]=v"
   ]
  },
  {
   "cell_type": "code",
   "execution_count": 101,
   "metadata": {},
   "outputs": [],
   "source": [
    "dam_ids = []\n",
    "dam_names = list(df_dam_card_places['dam_name'])\n",
    "dam_location_prefs = list(df_dam_card_places['ダム所在県名'])\n",
    "for name, pref in zip(dam_names, dam_location_prefs):\n",
    "    lookup_key = '{}-{}'.format(pref,name)\n",
    "    dam_ids.append(mapping.get(lookup_key, None))"
   ]
  },
  {
   "cell_type": "code",
   "execution_count": 102,
   "metadata": {},
   "outputs": [],
   "source": [
    "df_dam_card_places['dam_id']=dam_ids\n",
    "df_dam_card_places['dam_id'] = df_dam_card_places['dam_id']"
   ]
  },
  {
   "cell_type": "markdown",
   "metadata": {},
   "source": [
    "### 配布場所でグルーピングしてplace_idを付与"
   ]
  },
  {
   "cell_type": "code",
   "execution_count": 103,
   "metadata": {},
   "outputs": [],
   "source": [
    "df_dam_card_places['card_distribution_place_id']=df_dam_card_places.groupby(['配布場所']).ngroup()"
   ]
  },
  {
   "cell_type": "markdown",
   "metadata": {},
   "source": [
    "### 最後にdamの番号カラムにrecord_idを加える"
   ]
  },
  {
   "cell_type": "code",
   "execution_count": 104,
   "metadata": {},
   "outputs": [],
   "source": [
    "df_dam_card_places['番号']=np.arange(len(df_dam_card_places))"
   ]
  },
  {
   "cell_type": "code",
   "execution_count": 105,
   "metadata": {},
   "outputs": [],
   "source": [
    "df_dam_card_places.set_index('番号', inplace=True)"
   ]
  },
  {
   "cell_type": "markdown",
   "metadata": {},
   "source": [
    "### csv出力"
   ]
  },
  {
   "cell_type": "code",
   "execution_count": 106,
   "metadata": {},
   "outputs": [],
   "source": [
    "df_dam_card_places.to_csv('./df_dam_card_places.csv')"
   ]
  },
  {
   "cell_type": "markdown",
   "metadata": {},
   "source": [
    "---------------"
   ]
  },
  {
   "cell_type": "code",
   "execution_count": 107,
   "metadata": {},
   "outputs": [],
   "source": [
    "target_columns = ['card_distribution_place_id', 'dam_id', 'dam_name', 'ホームページURL', '配布場所の住所', '配布日時', '配布場所', 'ダム所在県名']\n",
    "df_dam_card_places_set = df_dam_card_places[target_columns].copy()"
   ]
  },
  {
   "cell_type": "code",
   "execution_count": 108,
   "metadata": {},
   "outputs": [],
   "source": [
    "df_dam_card_places_set.drop_duplicates(subset='card_distribution_place_id', keep='first', inplace=True)"
   ]
  },
  {
   "cell_type": "code",
   "execution_count": 109,
   "metadata": {},
   "outputs": [],
   "source": [
    "df_dam_card_places_set.to_csv('./dam_card_places_set.csv')"
   ]
  },
  {
   "cell_type": "code",
   "execution_count": null,
   "metadata": {},
   "outputs": [],
   "source": []
  }
 ],
 "metadata": {
  "kernelspec": {
   "display_name": "Python 3",
   "language": "python",
   "name": "python3"
  },
  "language_info": {
   "codemirror_mode": {
    "name": "ipython",
    "version": 3
   },
   "file_extension": ".py",
   "mimetype": "text/x-python",
   "name": "python",
   "nbconvert_exporter": "python",
   "pygments_lexer": "ipython3",
   "version": "3.7.4"
  }
 },
 "nbformat": 4,
 "nbformat_minor": 2
}
