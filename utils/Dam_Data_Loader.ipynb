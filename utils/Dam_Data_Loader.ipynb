{
 "cells": [
  {
   "cell_type": "code",
   "execution_count": 20,
   "metadata": {},
   "outputs": [],
   "source": [
    "import geopandas as gpd\n",
    "import pandas as pd\n",
    "import re\n",
    "pd.options.display.max_rows = 1000"
   ]
  },
  {
   "cell_type": "code",
   "execution_count": 21,
   "metadata": {},
   "outputs": [],
   "source": [
    "DATA_DIR = '../data/'\n",
    "fname = \"dam.geojson\""
   ]
  },
  {
   "cell_type": "code",
   "execution_count": 22,
   "metadata": {},
   "outputs": [],
   "source": [
    "df = gpd.read_file(DATA_DIR + fname)"
   ]
  },
  {
   "cell_type": "code",
   "execution_count": 23,
   "metadata": {},
   "outputs": [],
   "source": [
    "COLUMN_MAPPING = {'W01_001':'name',\n",
    "'W01_002':'dam_code',\n",
    "'W01_003':'water_system_name',\n",
    "'W01_004':'river_name',\n",
    "'W01_005':'type_code',\n",
    "'W01_006':'purpose_code',\n",
    "'W01_007':'scale_bank_height',\n",
    "'W01_008':'scale_bank_span',\n",
    "'W01_009':'bank_volume',\n",
    "'W01_010':'total_pondage',\n",
    "'W01_011':'institution_in_charge',\n",
    "'W01_012':'year_of_completion',\n",
    "'W01_013':'address',\n",
    "'W01_014':'positional_information_precision'}\n",
    "\n",
    "TYPE_CODE_MAPPING = {'1':'アーチダム',\n",
    "'2':' バットレスダム',\n",
    "'3':' アースダム',\n",
    "'4':' アスファルトフェイシングダム',\n",
    "'5':' アスファルトコアダム',\n",
    "'6':' フローティングゲートダム（可動堰）',\n",
    "'7':' 重力式コンクリートダム',\n",
    "'8':' 重力式アーチダム',\n",
    "'9':' 重力式コンクリートダム・フィルダム複合ダム',\n",
    "'10':' 中空重力式コンクリートダム',\n",
    "'11':' マルティプルアーチダム',\n",
    "'12':' ロックフィルダム',\n",
    "'13':' 台形CSG ダム'}\n",
    "\n",
    "PURPOSE_CODE_MAPPING = {\n",
    "    '1':'洪水調節，農地防災',\n",
    "'2':'不特定用水，河川維持用水',\n",
    "'3':'灌漑，特定(新規)灌漑用水',\n",
    "'4':'上水道用水',\n",
    "'5':'工業用水道用水',\n",
    "'6':'発電',\n",
    "'7':'消流雪用水',\n",
    "'8':'レクリエーション',\n",
    "}\n",
    "\n",
    "\n",
    "INSTITUTION_CODE = {'1': '国土交通省（各地方整備局，北海道開発局含む）',\n",
    " '2': '沖縄振興局（旧沖縄開発庁）',\n",
    " '3': '農林水産省（各地方農政局含む）',\n",
    " '4': '都道府県',\n",
    " '5': '市区町村',\n",
    " '6': '水資源機構（旧水資源開発公団）',\n",
    " '7': 'その他の公共企業体  ',\n",
    " '8': '土地改良区 ',\n",
    " '9': '利水組合・用水組合 ',\n",
    " '10': '電力会社・電源開発株式会社 ',\n",
    " '11': 'その他の企業',\n",
    " '12': '個人',\n",
    " '13': 'その他', }"
   ]
  },
  {
   "cell_type": "code",
   "execution_count": 24,
   "metadata": {},
   "outputs": [],
   "source": [
    "df.rename(columns=COLUMN_MAPPING, inplace=True)"
   ]
  },
  {
   "cell_type": "markdown",
   "metadata": {},
   "source": [
    "## `address`コラムから都道府県を抽出し`prefecture`コラムに代入する"
   ]
  },
  {
   "cell_type": "code",
   "execution_count": 25,
   "metadata": {},
   "outputs": [],
   "source": [
    "def extract_prefecture_from_address_column(item):\n",
    "    return re.search(r\"^(.{2}[都道府県]|.{3}県)\", item).group()"
   ]
  },
  {
   "cell_type": "code",
   "execution_count": 26,
   "metadata": {},
   "outputs": [],
   "source": [
    "df['prefecture']=df['address'].apply(extract_prefecture_from_address_column)"
   ]
  },
  {
   "cell_type": "code",
   "execution_count": 27,
   "metadata": {},
   "outputs": [],
   "source": [
    "df['category_id']=1"
   ]
  },
  {
   "cell_type": "code",
   "execution_count": 28,
   "metadata": {},
   "outputs": [],
   "source": [
    "d = df[['name', 'dam_code', 'water_system_name', 'river_name', 'type_code',\n",
    "       'purpose_code', 'scale_bank_height', 'scale_bank_span', 'bank_volume',\n",
    "       'total_pondage', 'institution_in_charge', 'year_of_completion',\n",
    "       'address', 'positional_information_precision', 'prefecture', 'category_id']].to_dict('records')# pandas_df = pd.DataFrame(rows)"
   ]
  },
  {
   "cell_type": "code",
   "execution_count": 29,
   "metadata": {},
   "outputs": [],
   "source": [
    "pandas_df = pd.DataFrame(d)"
   ]
  },
  {
   "cell_type": "code",
   "execution_count": 30,
   "metadata": {},
   "outputs": [],
   "source": [
    "pandas_df.to_json(DATA_DIR + \"dam.json\", orient='records')"
   ]
  },
  {
   "cell_type": "code",
   "execution_count": 31,
   "metadata": {},
   "outputs": [],
   "source": [
    "df[['dam_code', 'geometry']].to_csv(DATA_DIR + \"dam.geometry.csv\")"
   ]
  },
  {
   "cell_type": "code",
   "execution_count": null,
   "metadata": {},
   "outputs": [],
   "source": []
  }
 ],
 "metadata": {
  "kernelspec": {
   "display_name": "Python 3",
   "language": "python",
   "name": "python3"
  },
  "language_info": {
   "codemirror_mode": {
    "name": "ipython",
    "version": 3
   },
   "file_extension": ".py",
   "mimetype": "text/x-python",
   "name": "python",
   "nbconvert_exporter": "python",
   "pygments_lexer": "ipython3",
   "version": "3.7.4"
  }
 },
 "nbformat": 4,
 "nbformat_minor": 2
}
